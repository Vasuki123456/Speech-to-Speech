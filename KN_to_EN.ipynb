{
  "cells": [
    {
      "cell_type": "markdown",
      "metadata": {
        "id": "view-in-github",
        "colab_type": "text"
      },
      "source": [
        "<a href=\"https://colab.research.google.com/github/Vasuki123456/Speech-to-Speech/blob/main/KN_to_EN.ipynb\" target=\"_parent\"><img src=\"https://colab.research.google.com/assets/colab-badge.svg\" alt=\"Open In Colab\"/></a>"
      ]
    },
    {
      "cell_type": "code",
      "execution_count": null,
      "metadata": {
        "id": "EbMLOhmJaz9L"
      },
      "outputs": [],
      "source": [
        "!pip install fairseq"
      ]
    },
    {
      "cell_type": "code",
      "execution_count": null,
      "metadata": {
        "id": "TVaVQPI1VCoW"
      },
      "outputs": [],
      "source": [
        "!pip install"
      ]
    },
    {
      "cell_type": "code",
      "source": [
        "!pip install omegaconf"
      ],
      "metadata": {
        "id": "O2uNK7wCEWSt"
      },
      "execution_count": null,
      "outputs": []
    },
    {
      "cell_type": "code",
      "execution_count": null,
      "metadata": {
        "id": "sGoJXRfrVC1l"
      },
      "outputs": [],
      "source": [
        "!git clone https://github.com/pytorch/fairseq"
      ]
    },
    {
      "cell_type": "code",
      "execution_count": null,
      "metadata": {
        "id": "vNImIi8s7Cqt"
      },
      "outputs": [],
      "source": [
        "%cd /content/fairseq/"
      ]
    },
    {
      "cell_type": "code",
      "execution_count": null,
      "metadata": {
        "id": "AQDQyiXQ7RZ9"
      },
      "outputs": [],
      "source": [
        "!pip install --editable /content/fairseq"
      ]
    },
    {
      "cell_type": "code",
      "execution_count": null,
      "metadata": {
        "id": "RvQjg8SsP757"
      },
      "outputs": [],
      "source": [
        "!python setup.py build develop"
      ]
    },
    {
      "cell_type": "code",
      "source": [
        "!mkdir /content/hubert_base\n",
        "!mkdir /content/hubert_kmeans"
      ],
      "metadata": {
        "id": "ojhyOEpjGMj5"
      },
      "execution_count": null,
      "outputs": []
    },
    {
      "cell_type": "code",
      "execution_count": null,
      "metadata": {
        "id": "3GulOw1aexc1"
      },
      "outputs": [],
      "source": [
        "!wget -P /content/hubert_base https://dl.fbaipublicfiles.com/hubert/hubert_base_ls960.pt"
      ]
    },
    {
      "cell_type": "code",
      "execution_count": null,
      "metadata": {
        "id": "xmRjYcUyVikz"
      },
      "outputs": [],
      "source": [
        "!wget -P /content/hubert_kmeans https://dl.fbaipublicfiles.com/textless_nlp/gslm/hubert/km100/km.bin"
      ]
    },
    {
      "cell_type": "code",
      "source": [
        "!mkdir /content/AUDIO_EXTRACT"
      ],
      "metadata": {
        "id": "PNRB3rryGlGt"
      },
      "execution_count": null,
      "outputs": []
    },
    {
      "cell_type": "code",
      "execution_count": null,
      "metadata": {
        "id": "_UrpRjnPeNiV"
      },
      "outputs": [],
      "source": [
        "# !wget -P /content/AUDIO_EXTRACT https://us.openslr.org/resources/12/test-other.tar.gz"
      ]
    },
    {
      "cell_type": "code",
      "execution_count": null,
      "metadata": {
        "id": "qmWUavvbh8pj"
      },
      "outputs": [],
      "source": [
        "# !wget -P /content/AUDIO_EXTRACT https://www.openslr.org/resources/12/train-clean-100.tar.gz"
      ]
    },
    {
      "cell_type": "code",
      "source": [
        "!wget -P /content/AUDIO_EXTRACT https://huggingface.co/datasets/google/fleurs/resolve/main/data/en_us/audio/test.tar.gz"
      ],
      "metadata": {
        "id": "WxZ7nxuZPA9h"
      },
      "execution_count": null,
      "outputs": []
    },
    {
      "cell_type": "code",
      "source": [
        "!wget -P /content/EXTRACT_AUDIO https://huggingface.co/datasets/google/fleurs/resolve/main/data/kn_in/audio/test.tar.gz"
      ],
      "metadata": {
        "id": "UBOksq9YPe0p"
      },
      "execution_count": null,
      "outputs": []
    },
    {
      "cell_type": "code",
      "source": [
        "import shutil\n",
        "\n",
        "directory_to_delete = '/content/SRC_AUDIO/Train'  # Replace with the path of the directory you want to delete\n",
        "\n",
        "shutil.rmtree(directory_to_delete)"
      ],
      "metadata": {
        "id": "w7ywUzc_N8Jr"
      },
      "execution_count": null,
      "outputs": []
    },
    {
      "cell_type": "code",
      "execution_count": null,
      "metadata": {
        "id": "vWaXDcU2jb7p"
      },
      "outputs": [],
      "source": [
        "import tarfile\n",
        "\n",
        "# Define the path to your .tar.gz file\n",
        "file_path = '/content/AUDIO_EXTRACT/test.tar.gz'  # Replace with your file path\n",
        "\n",
        "# Specify the directory where you want to extract the contents\n",
        "extract_path = '/content/TGT_AUDIO'  # Replace with your desired extraction directory\n",
        "\n",
        "# Create the extraction directory if it doesn't exist\n",
        "!mkdir -p $extract_path\n",
        "\n",
        "# Extract the .tar.gz file\n",
        "with tarfile.open(file_path, 'r:gz') as tar:\n",
        "    tar.extractall(path=extract_path)"
      ]
    },
    {
      "cell_type": "code",
      "source": [
        "import tarfile\n",
        "\n",
        "# Define the path to your .tar.gz file\n",
        "file_path = '/content/EXTRACT_AUDIO/test.tar.gz'  # Replace with your file path\n",
        "\n",
        "# Specify the directory where you want to extract the contents\n",
        "extract_path = '/content/SRC_AUDIO'  # Replace with your desired extraction directory\n",
        "\n",
        "# Create the extraction directory if it doesn't exist\n",
        "!mkdir -p $extract_path\n",
        "\n",
        "# Extract the .tar.gz file\n",
        "with tarfile.open(file_path, 'r:gz') as tar:\n",
        "    tar.extractall(path=extract_path)"
      ],
      "metadata": {
        "id": "EpGa661KPu-O"
      },
      "execution_count": null,
      "outputs": []
    },
    {
      "cell_type": "code",
      "execution_count": null,
      "metadata": {
        "id": "zL3NgI1Gm-zi"
      },
      "outputs": [],
      "source": [
        "!mkdir \"/content/SRC_AUDIO\"\n",
        "!mkdir \"/content/Manifest2\"\n",
        "!mkdir \"/content/Manifest\"\n",
        "!mkdir \"/content/TGT_AUDIO\""
      ]
    },
    {
      "cell_type": "code",
      "execution_count": null,
      "metadata": {
        "id": "VWLbgdBqj5XP"
      },
      "outputs": [],
      "source": [
        "N_CLUSTERS=100\n",
        "TYPE='hubert'\n",
        "CKPT_PATH='/content/fairseq/hubert_base_ls960.pt'\n",
        "LAYER=6\n",
        "MANIFEST='/content/Manifest/test.tsv'\n",
        "KM_MODEL_PATH='/content/AUDIO_EXTRACT'\n"
      ]
    },
    {
      "cell_type": "code",
      "source": [
        "%cd /content/fairseq/"
      ],
      "metadata": {
        "id": "rXmTwT45RRrK"
      },
      "execution_count": null,
      "outputs": []
    },
    {
      "cell_type": "code",
      "source": [
        "import os\n",
        "\n",
        "def rename_files(directory_path):\n",
        "    # Get the list of files in the directory\n",
        "    files = os.listdir(directory_path)\n",
        "\n",
        "    # Sort the files based on their names\n",
        "    files.sort()\n",
        "\n",
        "    # Iterate through the sorted files and rename them\n",
        "    for index, file_name in enumerate(files, start=1):\n",
        "        # Get the file extension\n",
        "        file_extension = os.path.splitext(file_name)[1]\n",
        "\n",
        "        # Construct the new file name with a numeric index\n",
        "        new_file_name = f\"{index}{file_extension}\"\n",
        "\n",
        "        # Construct the full paths for the old and new file names\n",
        "        old_file_path = os.path.join(directory_path, file_name)\n",
        "        new_file_path = os.path.join(directory_path, new_file_name)\n",
        "\n",
        "        # Rename the file\n",
        "        os.rename(old_file_path, new_file_path)\n",
        "        print(f'Renamed: {file_name} -> {new_file_name}')\n",
        "\n",
        "# Example usage:\n",
        "directory_path = '/content/TGT_AUDIO/test'\n",
        "rename_files(directory_path)"
      ],
      "metadata": {
        "id": "wUgF6gZGf75E"
      },
      "execution_count": null,
      "outputs": []
    },
    {
      "cell_type": "code",
      "execution_count": null,
      "metadata": {
        "id": "WwVoGFQJmLoN"
      },
      "outputs": [],
      "source": [
        "!python examples/wav2vec/wav2vec_manifest.py \"/content/TGT_AUDIO\" --dest \"/content/Manifest\" --ext wav --valid-percent 0"
      ]
    },
    {
      "cell_type": "code",
      "source": [
        "!python examples/wav2vec/wav2vec_manifest.py \"/content/SRC_AUDIO\" --dest \"/content/Manifest2\" --ext wav --valid-percent 0"
      ],
      "metadata": {
        "id": "Bjovdeo3RoS2"
      },
      "execution_count": null,
      "outputs": []
    },
    {
      "cell_type": "code",
      "execution_count": null,
      "metadata": {
        "id": "0hBjKVuXkDJw"
      },
      "outputs": [],
      "source": [
        "# Example = \"!python /content/fairseq/examples/textless_nlp/gslm/speech2unit/clustering/cluster_kmeans.py \\\n",
        "#     --num_clusters 100 \\\n",
        "#     --feature_type hubert \\\n",
        "#     --checkpoint_path /content/fairseq/hubert_base_ls960.pt \\\n",
        "#     --layer 6 \\\n",
        "#     --manifest_path /content/sample_data/manifesthu.txt \\\n",
        "#     --out_kmeans_model_path /content/sample_data/km.bin\"\n",
        "\n",
        "!python /content/fairseq/examples/textless_nlp/gslm/speech2unit/clustering/quantize_with_kmeans.py \\\n",
        "    --feature_type hubert \\\n",
        "    --kmeans_model_path /content/hubert_kmeans/km.bin \\\n",
        "    --acoustic_model_path /content/hubert_base/hubert_base_ls960.pt \\\n",
        "    --layer 6 \\\n",
        "    --manifest_path /content/Manifest/train.tsv \\\n",
        "    --out_quantized_file_path /content/TGT_AUDIO/test.txt \\\n",
        "    --extension \".wav\""
      ]
    },
    {
      "cell_type": "code",
      "execution_count": null,
      "metadata": {
        "id": "smxeOizdnE71"
      },
      "outputs": [],
      "source": [
        "!wget -P /content/hub \"https://dl.fbaipublicfiles.com/fairseq/speech_to_speech/vocoder/code_hifigan/hubert_base_100_lj/g_00500000\""
      ]
    },
    {
      "cell_type": "code",
      "execution_count": null,
      "metadata": {
        "id": "Ya5ffAu3nPMI"
      },
      "outputs": [],
      "source": [
        "!wget -P /content/hub \"https://dl.fbaipublicfiles.com/fairseq/speech_to_speech/vocoder/code_hifigan/hubert_base_100_lj/config.json\""
      ]
    },
    {
      "cell_type": "code",
      "execution_count": null,
      "metadata": {
        "id": "f8vHW9_-n5W9"
      },
      "outputs": [],
      "source": [
        "#!wget -P /content/EXTRACT_AUDIO \"https://www.openslr.org/resources/79/kn_in_male.zip\""
      ]
    },
    {
      "cell_type": "code",
      "source": [
        "!mkdir \"/content/SRC_AUDIO\"\n",
        "!mkdir \"/content/SRC_AUDIO/Train\""
      ],
      "metadata": {
        "id": "up5w8hrpfLvx"
      },
      "execution_count": null,
      "outputs": []
    },
    {
      "cell_type": "code",
      "execution_count": null,
      "metadata": {
        "id": "7Z_5HEDVpYmV"
      },
      "outputs": [],
      "source": [
        "# Define the path to your .tar.gz file\n",
        "file_path = '/content/EXTRACT_AUDIO/train.tar.gz'  # Replace with your file path\n",
        "\n",
        "# Specify the directory where you want to extract the contents\n",
        "extract_path = '/content/EXTRACT_AUDIO'  # Replace with your desired extraction directory\n",
        "\n",
        "# Create the extraction directory if it doesn't exist\n",
        "!mkdir -p $extract_path\n",
        "\n",
        "# Extract the .tar.gz file\n",
        "with tarfile.open(file_path, 'r:gz') as tar:\n",
        "    tar.extractall(path=extract_path)"
      ]
    },
    {
      "cell_type": "code",
      "source": [
        "!mkdir /content/kn\n",
        "!mkdir /content/en\n",
        "!mkdir /content/DATA_ROOT\n",
        "!mkdir /content/Test_Model"
      ],
      "metadata": {
        "id": "vuv3M_4GQr4-"
      },
      "execution_count": null,
      "outputs": []
    },
    {
      "cell_type": "code",
      "execution_count": null,
      "metadata": {
        "id": "EaktdIoLndXE"
      },
      "outputs": [],
      "source": [
        "TGT_AUDIO = '/content/TGT_AUDIO'\n",
        "SRC_AUDIO = '/content/SRC_AUDIO'\n",
        "DATA_ROOT = '/content/DATA_ROOT'\n",
        "VOCODER_CKPT = '/content/hub/g_00500000'\n",
        "VOCODER_CFG = '/content/hub/config.json'"
      ]
    },
    {
      "cell_type": "code",
      "execution_count": null,
      "metadata": {
        "id": "C4TQ_QpBoHxU"
      },
      "outputs": [],
      "source": [
        "SPLIT1 = 'test'"
      ]
    },
    {
      "cell_type": "code",
      "source": [
        "!pip install tensorrt"
      ],
      "metadata": {
        "id": "pz3U83Ygarjl"
      },
      "execution_count": null,
      "outputs": []
    },
    {
      "cell_type": "code",
      "source": [
        "!pip install tensorboardX"
      ],
      "metadata": {
        "id": "Y0EUwksmaZWf"
      },
      "execution_count": null,
      "outputs": []
    },
    {
      "cell_type": "code",
      "execution_count": null,
      "metadata": {
        "id": "XegOATqcl6WQ"
      },
      "outputs": [],
      "source": [
        "!python /content/fairseq/examples/speech_to_speech/preprocessing/prep_s2ut_data.py \\\n",
        "  --source-dir $SRC_AUDIO --target-dir $TGT_AUDIO --data-split $SPLIT1 \\\n",
        "  --output-root $DATA_ROOT --reduce-unit \\\n",
        "  --vocoder-checkpoint $VOCODER_CKPT --vocoder-cfg $VOCODER_CFG"
      ]
    },
    {
      "cell_type": "code",
      "execution_count": null,
      "metadata": {
        "id": "zj2_1dOwshIM"
      },
      "outputs": [],
      "source": [
        "MODEL_DIR = '/content/Test_Model'"
      ]
    },
    {
      "cell_type": "code",
      "source": [
        "%cd /content/fairseq/"
      ],
      "metadata": {
        "id": "S0rSBKxCYXxV"
      },
      "execution_count": null,
      "outputs": []
    },
    {
      "cell_type": "code",
      "execution_count": null,
      "metadata": {
        "id": "qel686n7pluh"
      },
      "outputs": [],
      "source": [
        "!fairseq-train $DATA_ROOT \\\n",
        "  --config-yaml config.yaml \\\n",
        "  --task speech_to_speech --target-is-code --target-code-size 100 --vocoder code_hifigan  \\\n",
        "  --criterion speech_to_unit --label-smoothing 0.2 \\\n",
        "  --arch s2ut_transformer_fisher --share-decoder-input-output-embed \\\n",
        "  --dropout 0.1 --attention-dropout 0.1 --relu-dropout 0.1 \\\n",
        "  --train-subset test --valid-subset dev \\\n",
        "  --save-dir $MODEL_DIR \\\n",
        "  --lr 0.0005 --lr-scheduler inverse_sqrt --warmup-init-lr 1e-7 --warmup-updates 10000 \\\n",
        "  --optimizer adam --adam-betas \"(0.9,0.98)\" --clip-norm 10.0 \\\n",
        "  --max-update 350 --max-tokens 4000 --max-target-positions 3000 --update-freq 4 \\\n",
        "  --seed 1 --fp16 --num-workers 8 \\\n",
        "  --disable-validation"
      ]
    },
    {
      "cell_type": "code",
      "source": [
        "!pip install --upgrade pip setuptools"
      ],
      "metadata": {
        "id": "oDCcN8jPt9Uh"
      },
      "execution_count": null,
      "outputs": []
    },
    {
      "cell_type": "code",
      "source": [
        "!pip install packaging==22.0"
      ],
      "metadata": {
        "id": "PpzW2DU4Fhgg"
      },
      "execution_count": null,
      "outputs": []
    }
  ],
  "metadata": {
    "accelerator": "GPU",
    "colab": {
      "provenance": [],
      "gpuType": "T4",
      "authorship_tag": "ABX9TyM+up06X2rkVQshqYISAU7U",
      "include_colab_link": true
    },
    "kernelspec": {
      "display_name": "Python 3",
      "name": "python3"
    },
    "language_info": {
      "name": "python"
    }
  },
  "nbformat": 4,
  "nbformat_minor": 0
}